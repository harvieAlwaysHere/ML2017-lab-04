{
 "cells": [
  {
   "cell_type": "code",
   "execution_count": 2,
   "metadata": {
    "collapsed": true
   },
   "outputs": [],
   "source": [
    "import numpy as np\n",
    "import matplotlib.pyplot as plt\n",
    "%matplotlib inline\n",
    "\n",
    "trainFileName = \"C:\\\\Users\\\\admin\\\\Desktop\\\\ML-Exp4\\\\u1.base\"\n",
    "testFileName = \"C:\\\\Users\\\\admin\\\\Desktop\\\\ML-Exp4\\\\u1.test\"\n",
    "\n",
    "\n",
    "#读取数据和处理数据函数\n",
    "def dataRead(fileName):\n",
    "    data = np.loadtxt(fileName)\n",
    "    data = data[:, 0:3]\n",
    "    userSum = int(data.max(axis=0)[0])\n",
    "    itemSum = int(data.max(axis=0)[1])\n",
    "    R = np.zeros((userSum, itemSum))\n",
    "    for i in range(data.shape[0]):\n",
    "        userNum = int(data[i, :][0])\n",
    "        itemNum = int(data[i, :][1])\n",
    "        R[userNum - 1, itemNum - 1] = data[i, :][2]\n",
    "    return R\n"
   ]
  },
  {
   "cell_type": "code",
   "execution_count": 3,
   "metadata": {
    "collapsed": true
   },
   "outputs": [],
   "source": [
    "#定义loss函数\n",
    "def loss(R,P,Q,lamda):\n",
    "    loss=0\n",
    "    for i in range(len(R)):\n",
    "        for j in range(len(R[i])):\n",
    "            if R[i][j] > 0:\n",
    "                loss = loss + pow(R[i][j] - np.dot(P[i,:],Q[:,j]), 2)\n",
    "                for k in range(K):\n",
    "                    loss = loss + lamda * (pow(P[i][k],2) + pow(Q[k][j],2))\n",
    "    return loss"
   ]
  },
  {
   "cell_type": "code",
   "execution_count": 4,
   "metadata": {
    "collapsed": true
   },
   "outputs": [],
   "source": [
    "#矩阵分解迭代最下化loss\n",
    "def matrixFactorization(R,Rtest,P,Q,K,numIt,alpha,lamda):\n",
    "    Loss=np.zeros((numIt,1))\n",
    "    stopNumIt=0\n",
    "    for n in range(numIt):\n",
    "        for i in range(len(R)):\n",
    "            for j in range(len(R[i])):\n",
    "                if R[i][j] > 0:\n",
    "                    unit=R[i][j] - np.dot(P[i,:],Q[:,j])\n",
    "                    for k in range(K):\n",
    "                        P[i][k] = P[i][k] + alpha * (unit * Q[k][j] - lamda * P[i][k])\n",
    "                        Q[k][j] = Q[k][j] + alpha * (unit * P[i][k] - lamda * Q[k][j])\n",
    "\n",
    "        lossNow=loss(Rtest,P,Q,lamda)\n",
    "        Loss[n]=lossNow\n",
    "        if n>1:\n",
    "            if Loss[n-1]-Loss[n]> 0 :\n",
    "                if Loss[n - 1] - Loss[n] < 0.01 :\n",
    "                    stopNumIt=n\n",
    "                    break\n",
    "\n",
    "    return P,Q,Loss"
   ]
  },
  {
   "cell_type": "code",
   "execution_count": 5,
   "metadata": {
    "collapsed": false
   },
   "outputs": [
    {
     "data": {
      "image/png": "[encoded data removed]",
      "text/plain": [
       "<matplotlib.figure.Figure at 0x131ff164080>"
      ]
     },
     "metadata": {},
     "output_type": "display_data"
    }
   ],
   "source": [
    "#读取训练集和测试集数据\n",
    "Rtrain=dataRead(trainFileName)\n",
    "Rtest=dataRead(testFileName)\n",
    "#特征数量\n",
    "K=3\n",
    "#迭代次数\n",
    "numOfIt=300\n",
    "#分解矩阵 随机初始化\n",
    "P=np.random.rand(943,K)\n",
    "Q=np.random.rand(K,1682)\n",
    "#迭代下降\n",
    "rP,rQ,Loss=matrixFactorization(Rtrain,Rtest,P,Q,K,numOfIt,0.01,0.02)\n",
    "\n",
    "#画图\n",
    "x=np.arange(0,numOfIt,1)\n",
    "plt.rcParams['figure.figsize'] = (10.0, 8.0)\n",
    "plt.plot(x,Loss)\n",
    "plt.xlabel('Num of iterations')\n",
    "plt.ylabel('Loss')\n",
    "plt.show()"
   ]
  },
  {
   "cell_type": "code",
   "execution_count": 6,
   "metadata": {
    "collapsed": false
   },
   "outputs": [
    {
     "name": "stdout",
     "output_type": "stream",
     "text": [
      "[[ 3.76982235  3.12501457  3.04402243 ...,  2.29739103  3.64340023\n",
      "   3.35832306]\n",
      " [ 3.97949544  3.23744767  2.17025641 ...,  2.1649839   3.8340876\n",
      "   3.23234384]\n",
      " [ 3.40638099  2.76362235  2.69748798 ...,  2.14782914  3.3272622\n",
      "   3.03535194]\n",
      " ..., \n",
      " [ 4.29040289  3.70972113  3.04977061 ...,  2.24589443  4.03047319\n",
      "   3.64569773]\n",
      " [ 4.42313436  4.02042089  2.08757506 ...,  1.66615849  3.9812754\n",
      "   3.36600332]\n",
      " [ 3.62061482  3.31480505  4.06870055 ...,  2.12438592  3.35806875\n",
      "   3.49662464]]\n"
     ]
    }
   ],
   "source": [
    "RPredict=rP.dot(rQ)\n",
    "print(RPredict)"
   ]
  },
  {
   "cell_type": "code",
   "execution_count": null,
   "metadata": {
    "collapsed": true
   },
   "outputs": [],
   "source": []
  }
 ],
 "metadata": {
  "kernelspec": {
   "display_name": "Python [Root]",
   "language": "python",
   "name": "Python [Root]"
  },
  "language_info": {
   "codemirror_mode": {
    "name": "ipython",
    "version": 3
   },
   "file_extension": ".py",
   "mimetype": "text/x-python",
   "name": "python",
   "nbconvert_exporter": "python",
   "pygments_lexer": "ipython3",
   "version": "3.5.2"
  }
 },
 "nbformat": 4,
 "nbformat_minor": 0
}
